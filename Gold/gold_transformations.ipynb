{
 "cells": [
  {
   "cell_type": "markdown",
   "metadata": {
    "application/vnd.databricks.v1+cell": {
     "cellMetadata": {
      "byteLimit": 2048000,
      "rowLimit": 10000
     },
     "inputWidgets": {},
     "nuid": "26bbbb4d-b16b-4c77-9997-a54896f8c1a1",
     "showTitle": false,
     "tableResultSettingsMap": {},
     "title": ""
    }
   },
   "source": [
    "### Loading the functions"
   ]
  },
  {
   "cell_type": "code",
   "execution_count": 0,
   "metadata": {
    "application/vnd.databricks.v1+cell": {
     "cellMetadata": {
      "byteLimit": 2048000,
      "rowLimit": 10000
     },
     "inputWidgets": {},
     "nuid": "727b9f27-dbd2-4e6f-bdd6-8cde8a85e084",
     "showTitle": false,
     "tableResultSettingsMap": {},
     "title": ""
    }
   },
   "outputs": [],
   "source": [
    "from pyspark.sql.functions import *\n",
    "from pyspark.sql import functions as F"
   ]
  },
  {
   "cell_type": "markdown",
   "metadata": {
    "application/vnd.databricks.v1+cell": {
     "cellMetadata": {
      "byteLimit": 2048000,
      "rowLimit": 10000
     },
     "inputWidgets": {},
     "nuid": "73e01d30-7327-44a1-81b4-efa46232727e",
     "showTitle": false,
     "tableResultSettingsMap": {},
     "title": ""
    }
   },
   "source": [
    "### Creating Schema"
   ]
  },
  {
   "cell_type": "code",
   "execution_count": 0,
   "metadata": {
    "application/vnd.databricks.v1+cell": {
     "cellMetadata": {
      "byteLimit": 2048000,
      "rowLimit": 10000
     },
     "inputWidgets": {},
     "nuid": "bf9174dc-0c08-49e8-9b9e-160fd621805b",
     "showTitle": false,
     "tableResultSettingsMap": {},
     "title": ""
    }
   },
   "outputs": [],
   "source": [
    "container=\"veersacontainer\"\n",
    "storage_account=\"storage12092004\""
   ]
  },
  {
   "cell_type": "code",
   "execution_count": 0,
   "metadata": {
    "application/vnd.databricks.v1+cell": {
     "cellMetadata": {
      "byteLimit": 2048000,
      "implicitDf": true,
      "rowLimit": 10000
     },
     "inputWidgets": {},
     "nuid": "0f9b7969-2654-44a6-927a-392659d958fc",
     "showTitle": false,
     "tableResultSettingsMap": {},
     "title": ""
    }
   },
   "outputs": [],
   "source": [
    "%sql\n",
    "CREATE SCHEMA IF NOT EXISTS veersadatabricks.gold\n",
    "MANAGED LOCATION 'abfss://veersacontainer@storage12092004.dfs.core.windows.net/gold/';"
   ]
  },
  {
   "cell_type": "markdown",
   "metadata": {
    "application/vnd.databricks.v1+cell": {
     "cellMetadata": {
      "byteLimit": 2048000,
      "rowLimit": 10000
     },
     "inputWidgets": {},
     "nuid": "768de048-9f7a-4bc1-9462-6a3f09bdbe96",
     "showTitle": false,
     "tableResultSettingsMap": {},
     "title": ""
    }
   },
   "source": [
    "### Join of search trend and time table\n",
    "- joined on date\n",
    "- good join\n",
    "- no changes needed"
   ]
  },
  {
   "cell_type": "code",
   "execution_count": 0,
   "metadata": {
    "application/vnd.databricks.v1+cell": {
     "cellMetadata": {
      "byteLimit": 2048000,
      "rowLimit": 10000
     },
     "inputWidgets": {},
     "nuid": "534a4f33-adff-47f4-b00c-cdece2639b47",
     "showTitle": false,
     "tableResultSettingsMap": {},
     "title": ""
    }
   },
   "outputs": [],
   "source": [
    "df_time = spark.table(\"veersadatabricks.silver_final.time_silver\")\n",
    "df_time = df_time.drop(\"_source_file\",\"ingested_at\",\"_source_file_mod_ts\",\"is_current\")"
   ]
  },
  {
   "cell_type": "code",
   "execution_count": 0,
   "metadata": {
    "application/vnd.databricks.v1+cell": {
     "cellMetadata": {
      "byteLimit": 2048000,
      "rowLimit": 10000
     },
     "inputWidgets": {},
     "nuid": "34de2ae0-fe63-4cb0-a3fb-7433aa46348a",
     "showTitle": false,
     "tableResultSettingsMap": {},
     "title": ""
    }
   },
   "outputs": [],
   "source": [
    "df_search_trend = spark.table(\"veersadatabricks.silver_final.searchtrend_silver\")\n",
    "df_search_trend = df_search_trend.drop(\"_source_file\",\"ingested_at\",\"_source_file_mod_ts\",\"is_current\")"
   ]
  },
  {
   "cell_type": "code",
   "execution_count": 0,
   "metadata": {
    "application/vnd.databricks.v1+cell": {
     "cellMetadata": {
      "byteLimit": 2048000,
      "rowLimit": 10000
     },
     "inputWidgets": {},
     "nuid": "f367e847-0a2b-43fa-8124-f0979537f3a2",
     "showTitle": false,
     "tableResultSettingsMap": {},
     "title": ""
    }
   },
   "outputs": [],
   "source": [
    "df_time_search_trend = df_time.join(df_search_trend, on=\"date\",how=\"inner\")\n",
    "#print(df_time_search_trend.count())"
   ]
  },
  {
   "cell_type": "code",
   "execution_count": 0,
   "metadata": {
    "application/vnd.databricks.v1+cell": {
     "cellMetadata": {
      "byteLimit": 2048000,
      "rowLimit": 10000
     },
     "inputWidgets": {},
     "nuid": "10d599ce-8688-4775-aee6-2896c08dd1f7",
     "showTitle": false,
     "tableResultSettingsMap": {},
     "title": ""
    }
   },
   "outputs": [],
   "source": [
    "# df_time_search_trend = df_time_search_trend.drop(\"_source_file\")"
   ]
  },
  {
   "cell_type": "code",
   "execution_count": 0,
   "metadata": {
    "application/vnd.databricks.v1+cell": {
     "cellMetadata": {
      "byteLimit": 2048000,
      "rowLimit": 10000
     },
     "inputWidgets": {},
     "nuid": "36a92231-b8a9-4484-8105-26aeccb98de7",
     "showTitle": false,
     "tableResultSettingsMap": {},
     "title": ""
    }
   },
   "outputs": [],
   "source": [
    "df_time_search_trend.write.format(\"delta\") \\\n",
    "    .mode(\"overwrite\") \\\n",
    "    .option(\"path\", f\"abfss://{container}@{storage_account}.dfs.core.windows.net/gold/time_searchtrend\") \\\n",
    "    .saveAsTable(\"veersadatabricks.gold.time_searchtrend\")"
   ]
  },
  {
   "cell_type": "markdown",
   "metadata": {
    "application/vnd.databricks.v1+cell": {
     "cellMetadata": {
      "byteLimit": 2048000,
      "rowLimit": 10000
     },
     "inputWidgets": {},
     "nuid": "cf6feecf-3907-46a6-8c8e-02b51f45b17a",
     "showTitle": false,
     "tableResultSettingsMap": {},
     "title": ""
    }
   },
   "source": [
    "### Time Tables\n",
    "- adding a mortality rate column"
   ]
  },
  {
   "cell_type": "markdown",
   "metadata": {
    "application/vnd.databricks.v1+cell": {
     "cellMetadata": {
      "byteLimit": 2048000,
      "rowLimit": 10000
     },
     "inputWidgets": {},
     "nuid": "307d1169-8477-4549-ab84-ebba0020dd33",
     "showTitle": false,
     "tableResultSettingsMap": {},
     "title": ""
    }
   },
   "source": [
    "#### Time Province"
   ]
  },
  {
   "cell_type": "code",
   "execution_count": 0,
   "metadata": {
    "application/vnd.databricks.v1+cell": {
     "cellMetadata": {
      "byteLimit": 2048000,
      "rowLimit": 10000
     },
     "inputWidgets": {},
     "nuid": "40de970e-d278-4dad-85f9-732bd8f00994",
     "showTitle": false,
     "tableResultSettingsMap": {},
     "title": ""
    }
   },
   "outputs": [],
   "source": [
    "df_time_province = spark.table(\"veersadatabricks.silver_final.timeprovince_silver\")\n",
    "df_time_province = df_time_province.drop(\"time\")\n",
    "df_time_province = df_time_province.orderBy(df_time_province.province, df_time_province.date)\n",
    "#df_time_province.display()\n",
    "df_time_province = df_time_province.withColumn(\n",
    "    \"mortality_rate\",\n",
    "    round(\n",
    "        when(col(\"confirmed\") > 0, col(\"deceased\") / col(\"confirmed\")).otherwise(0), 3\n",
    "    )\n",
    ")\n",
    "#df_time_province.display()"
   ]
  },
  {
   "cell_type": "code",
   "execution_count": 0,
   "metadata": {
    "application/vnd.databricks.v1+cell": {
     "cellMetadata": {
      "byteLimit": 2048000,
      "rowLimit": 10000
     },
     "inputWidgets": {},
     "nuid": "c2b5294d-257d-4323-a14e-da359549e3ac",
     "showTitle": false,
     "tableResultSettingsMap": {},
     "title": ""
    }
   },
   "outputs": [],
   "source": [
    "df_time_province.write.format(\"delta\") \\\n",
    "    .mode(\"overwrite\") \\\n",
    "    .option(\"path\", f\"abfss://{container}@{storage_account}.dfs.core.windows.net/gold/TimeProvince\") \\\n",
    "    .saveAsTable(\"veersadatabricks.gold.timeprovince\")"
   ]
  },
  {
   "cell_type": "markdown",
   "metadata": {
    "application/vnd.databricks.v1+cell": {
     "cellMetadata": {
      "byteLimit": 2048000,
      "rowLimit": 10000
     },
     "inputWidgets": {},
     "nuid": "522b07ff-b81a-4bb1-b594-90caf279c349",
     "showTitle": false,
     "tableResultSettingsMap": {},
     "title": ""
    }
   },
   "source": [
    "#### Time Age"
   ]
  },
  {
   "cell_type": "code",
   "execution_count": 0,
   "metadata": {
    "application/vnd.databricks.v1+cell": {
     "cellMetadata": {
      "byteLimit": 2048000,
      "rowLimit": 10000
     },
     "inputWidgets": {},
     "nuid": "3cb2ab4c-5212-4dc6-8174-6b355e3e45d5",
     "showTitle": false,
     "tableResultSettingsMap": {},
     "title": ""
    }
   },
   "outputs": [],
   "source": [
    "df_time_age = spark.table(\"veersadatabricks.silver_final.timeage_silver\")\n",
    "df_time_age = df_time_age.withColumn(\n",
    "    \"mortality_rate\",\n",
    "    round(\n",
    "        when(col(\"confirmed\") > 0, col(\"deceased\") / col(\"confirmed\")).otherwise(None), 3\n",
    "    )\n",
    ")\n",
    "#df_time_age.display()"
   ]
  },
  {
   "cell_type": "code",
   "execution_count": 0,
   "metadata": {
    "application/vnd.databricks.v1+cell": {
     "cellMetadata": {
      "byteLimit": 2048000,
      "rowLimit": 10000
     },
     "inputWidgets": {},
     "nuid": "8a5de70c-f193-4a39-8c8f-aab3d0c69b2c",
     "showTitle": false,
     "tableResultSettingsMap": {},
     "title": ""
    }
   },
   "outputs": [],
   "source": [
    "df_time_age.write.format(\"delta\") \\\n",
    "    .mode(\"overwrite\") \\\n",
    "    .option(\"path\", f\"abfss://{container}@{storage_account}.dfs.core.windows.net/gold/TimeAge\") \\\n",
    "    .saveAsTable(\"veersadatabricks.gold.timeage\")"
   ]
  },
  {
   "cell_type": "markdown",
   "metadata": {
    "application/vnd.databricks.v1+cell": {
     "cellMetadata": {
      "byteLimit": 2048000,
      "rowLimit": 10000
     },
     "inputWidgets": {},
     "nuid": "8813b583-cdcf-4ad1-8405-2f33ae163b7c",
     "showTitle": false,
     "tableResultSettingsMap": {},
     "title": ""
    }
   },
   "source": [
    "#### Time Gender"
   ]
  },
  {
   "cell_type": "code",
   "execution_count": 0,
   "metadata": {
    "application/vnd.databricks.v1+cell": {
     "cellMetadata": {
      "byteLimit": 2048000,
      "rowLimit": 10000
     },
     "inputWidgets": {},
     "nuid": "5e7702a1-a403-4018-a6bc-09113e96eb9d",
     "showTitle": false,
     "tableResultSettingsMap": {},
     "title": ""
    }
   },
   "outputs": [],
   "source": [
    "df_time_gender = spark.table(\"veersadatabricks.silver_final.timegender_silver\")\n",
    "df_time_gender = df_time_gender.withColumn(\n",
    "    \"mortality_rate\",\n",
    "    round(\n",
    "        when(col(\"confirmed\") > 0, col(\"deceased\") / col(\"confirmed\")).otherwise(None), 3\n",
    "    )\n",
    ")\n",
    "#df_time_gender.display()"
   ]
  },
  {
   "cell_type": "code",
   "execution_count": 0,
   "metadata": {
    "application/vnd.databricks.v1+cell": {
     "cellMetadata": {
      "byteLimit": 2048000,
      "rowLimit": 10000
     },
     "inputWidgets": {},
     "nuid": "e9ea6a74-7d32-4a88-a6e0-2f12908d4ae4",
     "showTitle": false,
     "tableResultSettingsMap": {},
     "title": ""
    }
   },
   "outputs": [],
   "source": [
    "df_time_gender.write.format(\"delta\") \\\n",
    "    .mode(\"overwrite\") \\\n",
    "    .option(\"overwriteSchema\",\"true\")\\\n",
    "    .option(\"path\", f\"abfss://{container}@{storage_account}.dfs.core.windows.net/gold/TimeGender\") \\\n",
    "    .saveAsTable(\"veersadatabricks.gold.timegender\")"
   ]
  },
  {
   "cell_type": "markdown",
   "metadata": {
    "application/vnd.databricks.v1+cell": {
     "cellMetadata": {
      "byteLimit": 2048000,
      "rowLimit": 10000
     },
     "inputWidgets": {},
     "nuid": "e52f0f10-d139-43de-995c-9edb698776db",
     "showTitle": false,
     "tableResultSettingsMap": {},
     "title": ""
    }
   },
   "source": [
    "### Region and Weather Table Join\n",
    "- inner join ensures that only valid, complete and relevant data is kept"
   ]
  },
  {
   "cell_type": "code",
   "execution_count": 0,
   "metadata": {
    "application/vnd.databricks.v1+cell": {
     "cellMetadata": {
      "byteLimit": 2048000,
      "rowLimit": 10000
     },
     "inputWidgets": {},
     "nuid": "c509eebc-f837-47c1-b322-5fcc58ca776f",
     "showTitle": false,
     "tableResultSettingsMap": {},
     "title": ""
    }
   },
   "outputs": [],
   "source": [
    "df_region = spark.table(\"veersadatabricks.silver_final.region_silver\")\n",
    "df_region = df_region.drop(\"_source_file\",\"ingested_at\",\"_source_file_mod_ts\",\"is_current\")"
   ]
  },
  {
   "cell_type": "code",
   "execution_count": 0,
   "metadata": {
    "application/vnd.databricks.v1+cell": {
     "cellMetadata": {
      "byteLimit": 2048000,
      "rowLimit": 10000
     },
     "inputWidgets": {},
     "nuid": "3334312e-5f46-4d33-94d5-e6235d95979d",
     "showTitle": false,
     "tableResultSettingsMap": {},
     "title": ""
    }
   },
   "outputs": [],
   "source": [
    "df_weather = spark.table(\"veersadatabricks.silver_final.weather_silver\")\n",
    "df_weather= df_weather.drop(\"_source_file\",\"ingested_at\",\"_source_file_mod_ts\",\"is_current\")"
   ]
  },
  {
   "cell_type": "code",
   "execution_count": 0,
   "metadata": {
    "application/vnd.databricks.v1+cell": {
     "cellMetadata": {
      "byteLimit": 2048000,
      "rowLimit": 10000
     },
     "inputWidgets": {},
     "nuid": "7ee919c6-8658-4ea9-a58f-6f11a49b861d",
     "showTitle": false,
     "tableResultSettingsMap": {},
     "title": ""
    }
   },
   "outputs": [],
   "source": [
    "df_region_weather = df_region.join(df_weather, df_region.code == df_weather.code, how = \"inner\")"
   ]
  },
  {
   "cell_type": "code",
   "execution_count": 0,
   "metadata": {
    "application/vnd.databricks.v1+cell": {
     "cellMetadata": {
      "byteLimit": 2048000,
      "rowLimit": 10000
     },
     "inputWidgets": {},
     "nuid": "11c163e1-bc61-47ec-ad2e-610a4497b5b1",
     "showTitle": false,
     "tableResultSettingsMap": {},
     "title": ""
    }
   },
   "outputs": [],
   "source": [
    "df_region_weather = df_region_weather.drop(df_weather[\"code\"]).drop(df_weather[\"province\"])\n",
    "df_region_weather.orderBy(df_region.code,df_weather.date)#.display()\n",
    "#df_region_weather.count()"
   ]
  },
  {
   "cell_type": "code",
   "execution_count": 0,
   "metadata": {
    "application/vnd.databricks.v1+cell": {
     "cellMetadata": {
      "byteLimit": 2048000,
      "rowLimit": 10000
     },
     "inputWidgets": {},
     "nuid": "0eb2f377-ed24-47fc-a6ea-134ec4cd0a15",
     "showTitle": false,
     "tableResultSettingsMap": {},
     "title": ""
    }
   },
   "outputs": [],
   "source": [
    "df_region_weather.write.format(\"delta\") \\\n",
    "    .mode(\"overwrite\") \\\n",
    "    .option(\"path\", f\"abfss://{container}@{storage_account}.dfs.core.windows.net/gold/RegionWeather\") \\\n",
    "    .saveAsTable(\"veersadatabricks.gold.regionweather\")"
   ]
  },
  {
   "cell_type": "markdown",
   "metadata": {
    "application/vnd.databricks.v1+cell": {
     "cellMetadata": {
      "byteLimit": 2048000,
      "rowLimit": 10000
     },
     "inputWidgets": {},
     "nuid": "56e0b4f7-6a2d-4da6-82bf-904866451aea",
     "showTitle": false,
     "tableResultSettingsMap": {},
     "title": ""
    }
   },
   "source": [
    "### Case Table\n",
    "- no use of latitude and longitudes as they vary and don't know the value for half the data points for them anyway"
   ]
  },
  {
   "cell_type": "code",
   "execution_count": 0,
   "metadata": {
    "application/vnd.databricks.v1+cell": {
     "cellMetadata": {
      "byteLimit": 2048000,
      "rowLimit": 10000
     },
     "inputWidgets": {},
     "nuid": "1ace4fb5-3610-45e1-942d-7bf7ac4cfb90",
     "showTitle": false,
     "tableResultSettingsMap": {},
     "title": ""
    }
   },
   "outputs": [],
   "source": [
    "df_case = spark.table(\"veersadatabricks.silver_final.case_table_silver\")\n",
    "df_case = df_case.drop(\"latitude\", \"longitude\",\"_source_file\",\"ingested_at\",\"_source_file_mod_ts\",\"is_current\")"
   ]
  },
  {
   "cell_type": "code",
   "execution_count": 0,
   "metadata": {
    "application/vnd.databricks.v1+cell": {
     "cellMetadata": {
      "byteLimit": 2048000,
      "rowLimit": 10000
     },
     "inputWidgets": {},
     "nuid": "78e48ff8-c651-4e1b-923d-2f7a9d27b15a",
     "showTitle": false,
     "tableResultSettingsMap": {},
     "title": ""
    }
   },
   "outputs": [],
   "source": [
    "df_case.write.format(\"delta\") \\\n",
    "    .mode(\"overwrite\") \\\n",
    "    .option(\"overwriteSchema\", \"true\")\\\n",
    "    .option(\"path\", f\"abfss://{container}@{storage_account}.dfs.core.windows.net/gold/FinalCaseTable\") \\\n",
    "    .saveAsTable(\"veersadatabricks.gold.case_table_gold\")"
   ]
  },
  {
   "cell_type": "markdown",
   "metadata": {
    "application/vnd.databricks.v1+cell": {
     "cellMetadata": {
      "byteLimit": 2048000,
      "rowLimit": 10000
     },
     "inputWidgets": {},
     "nuid": "f3358647-dbbd-46eb-afcf-ef42957056b0",
     "showTitle": false,
     "tableResultSettingsMap": {},
     "title": ""
    }
   },
   "source": [
    "## Joined the patient_info_silver table with cases table\n",
    "- join on infection_case, province and city\n",
    "- broadcast(df_case) is a Spark optimization technique that tells Spark to send the entire df_case DataFrame to all worker nodes, so it can be joined efficiently with a much larger DataFrame like df_patient."
   ]
  },
  {
   "cell_type": "code",
   "execution_count": 0,
   "metadata": {
    "application/vnd.databricks.v1+cell": {
     "cellMetadata": {
      "byteLimit": 2048000,
      "rowLimit": 10000
     },
     "inputWidgets": {},
     "nuid": "164363c3-34ca-400e-9af2-bfc2c9b8bb7a",
     "showTitle": false,
     "tableResultSettingsMap": {},
     "title": ""
    }
   },
   "outputs": [],
   "source": [
    "df_patient_info = spark.table(\"veersadatabricks.silver_final.patientinfo_silver\")\n",
    "df_patient_info= df_patient_info.drop(\"_source_file\",\"ingested_at\",\"_source_file_mod_ts\",\"is_current\")"
   ]
  },
  {
   "cell_type": "code",
   "execution_count": 0,
   "metadata": {
    "application/vnd.databricks.v1+cell": {
     "cellMetadata": {
      "byteLimit": 2048000,
      "rowLimit": 10000
     },
     "inputWidgets": {},
     "nuid": "2b07245c-a5bd-4061-b0c4-108ba3eb3826",
     "showTitle": false,
     "tableResultSettingsMap": {},
     "title": ""
    }
   },
   "outputs": [],
   "source": [
    "patient_case_df = df_patient_info.join(\n",
    "    broadcast(df_case),\n",
    "    (df_patient_info.infection_case == df_case.infection_case) &\n",
    "    (df_patient_info.province == df_case.province) &\n",
    "    (df_patient_info.city == df_case.city),\n",
    "    how = \"left\"\n",
    ").drop(df_case.province, df_case.city, df_case.infection_case, df_case.confirmedCases)"
   ]
  },
  {
   "cell_type": "code",
   "execution_count": 0,
   "metadata": {
    "application/vnd.databricks.v1+cell": {
     "cellMetadata": {
      "byteLimit": 2048000,
      "rowLimit": 10000
     },
     "inputWidgets": {},
     "nuid": "0e79b509-f267-4bdb-ae6c-fd53f494c1eb",
     "showTitle": false,
     "tableResultSettingsMap": {},
     "title": ""
    }
   },
   "outputs": [],
   "source": [
    "patient_case_df = patient_case_df.filter(~((col(\"sex\").isNull()) & (col(\"age\").isNull()) & (col(\"infection_case\") == \"Etc\")))"
   ]
  },
  {
   "cell_type": "code",
   "execution_count": 0,
   "metadata": {
    "application/vnd.databricks.v1+cell": {
     "cellMetadata": {
      "byteLimit": 2048000,
      "rowLimit": 10000
     },
     "inputWidgets": {},
     "nuid": "2555a025-b406-4441-8ca2-c63dba2a4318",
     "showTitle": false,
     "tableResultSettingsMap": {},
     "title": ""
    }
   },
   "outputs": [],
   "source": [
    "patient_case_df.write.format(\"delta\") \\\n",
    "    .mode(\"overwrite\") \\\n",
    "    .option(\"overwriteSchema\", \"true\")\\\n",
    "    .option(\"path\", f\"abfss://{container}@{storage_account}.dfs.core.windows.net/gold/PatientCase\") \\\n",
    "    .saveAsTable(\"veersadatabricks.gold.patientcase\")"
   ]
  }
 ],
 "metadata": {
  "application/vnd.databricks.v1+notebook": {
   "computePreferences": null,
   "dashboards": [],
   "environmentMetadata": {
    "base_environment": "",
    "environment_version": "3"
   },
   "inputWidgetPreferences": null,
   "language": "python",
   "notebookMetadata": {
    "mostRecentlyExecutedCommandWithImplicitDF": {
     "commandId": 5411997622563325,
     "dataframes": [
      "_sqldf"
     ]
    },
    "pythonIndentUnit": 4
   },
   "notebookName": "gold_transformations",
   "widgets": {}
  },
  "language_info": {
   "name": "python"
  }
 },
 "nbformat": 4,
 "nbformat_minor": 0
}
