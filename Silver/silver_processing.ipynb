{
 "cells": [
  {
   "cell_type": "markdown",
   "metadata": {
    "application/vnd.databricks.v1+cell": {
     "cellMetadata": {
      "byteLimit": 2048000,
      "rowLimit": 10000
     },
     "inputWidgets": {},
     "nuid": "37cc8326-242c-4458-a1fd-8f20d28c5200",
     "showTitle": false,
     "tableResultSettingsMap": {},
     "title": ""
    }
   },
   "source": [
    "### Loading Function"
   ]
  },
  {
   "cell_type": "code",
   "execution_count": 0,
   "metadata": {
    "application/vnd.databricks.v1+cell": {
     "cellMetadata": {
      "byteLimit": 2048000,
      "rowLimit": 10000
     },
     "inputWidgets": {},
     "nuid": "fffe97e5-58f8-4c1b-af03-34e73ca0bb0f",
     "showTitle": false,
     "tableResultSettingsMap": {},
     "title": ""
    }
   },
   "outputs": [],
   "source": [
    "from pyspark.sql.functions import *\n",
    "import pyspark.sql.functions as F"
   ]
  },
  {
   "cell_type": "code",
   "execution_count": 0,
   "metadata": {
    "application/vnd.databricks.v1+cell": {
     "cellMetadata": {
      "byteLimit": 2048000,
      "rowLimit": 10000
     },
     "inputWidgets": {},
     "nuid": "a6b74f1a-ebbf-4858-9231-6990581766ff",
     "showTitle": false,
     "tableResultSettingsMap": {},
     "title": ""
    }
   },
   "outputs": [],
   "source": [
    "container=\"veersacontainer\"\n",
    "storage_account=\"storage12092004\""
   ]
  },
  {
   "cell_type": "markdown",
   "metadata": {
    "application/vnd.databricks.v1+cell": {
     "cellMetadata": {
      "byteLimit": 2048000,
      "rowLimit": 10000
     },
     "inputWidgets": {},
     "nuid": "db5d1731-3016-4741-ae63-fe5a318a39b5",
     "showTitle": false,
     "tableResultSettingsMap": {},
     "title": ""
    }
   },
   "source": [
    "### creating schema"
   ]
  },
  {
   "cell_type": "code",
   "execution_count": 0,
   "metadata": {
    "application/vnd.databricks.v1+cell": {
     "cellMetadata": {
      "byteLimit": 2048000,
      "implicitDf": true,
      "rowLimit": 10000
     },
     "inputWidgets": {},
     "nuid": "326e22d8-518a-44b4-b899-ac44adcc34a0",
     "showTitle": false,
     "tableResultSettingsMap": {},
     "title": ""
    }
   },
   "outputs": [],
   "source": [
    "%sql\n",
    "CREATE SCHEMA IF NOT EXISTS veersadatabricks.silver_final\n",
    "MANAGED LOCATION 'abfss://veersacontainer@storage12092004.dfs.core.windows.net/silver/';"
   ]
  },
  {
   "cell_type": "markdown",
   "metadata": {
    "application/vnd.databricks.v1+cell": {
     "cellMetadata": {
      "byteLimit": 2048000,
      "rowLimit": 10000
     },
     "inputWidgets": {},
     "nuid": "061cad0c-36f3-4a68-a02e-e903d83c36d9",
     "showTitle": false,
     "tableResultSettingsMap": {},
     "title": ""
    }
   },
   "source": [
    "### Case Table\n",
    "- The table contains data related to infection cases, including details about the location and nature of each case. \n",
    "- checking for null values of caseid\n",
    "- caseId is id of infection case\n",
    "- confirmed column has been renamed to confirmedCases\n",
    "- table contains 8 fields - including latitude and longitude fields to preserve as much clean data as possible"
   ]
  },
  {
   "cell_type": "code",
   "execution_count": 0,
   "metadata": {
    "application/vnd.databricks.v1+cell": {
     "cellMetadata": {
      "byteLimit": 2048000,
      "rowLimit": 10000
     },
     "inputWidgets": {},
     "nuid": "53691338-e53c-43d8-9a26-48199bc89d16",
     "showTitle": false,
     "tableResultSettingsMap": {},
     "title": ""
    }
   },
   "outputs": [],
   "source": [
    "case_silver = spark.table(\"veersadatabricks.silver.case_table_silver\")\n",
    "#case_bronze.printSchema()\n",
    "case_table_silver = (\n",
    "    case_silver\n",
    "    .withColumnRenamed(\"_case_id\", \"caseId\")\n",
    "    .withColumnRenamed(\"confirmed\", \"confirmedCases\")\n",
    "    .withColumn(\"confirmedCases\", col(\"confirmedCases\").cast(\"int\"))\n",
    "    .withColumn(\"city\", trim(col(\"city\")))\n",
    "    .filter(\n",
    "        col(\"caseId\").isNotNull() &\n",
    "        col(\"confirmedCases\").isNotNull() \n",
    "        #&\n",
    "        #(col(\"city\").isNotNull() & (col(\"city\") != \"-\"))\n",
    "    )\n",
    "    .dropDuplicates()\n",
    ")"
   ]
  },
  {
   "cell_type": "code",
   "execution_count": 0,
   "metadata": {
    "application/vnd.databricks.v1+cell": {
     "cellMetadata": {
      "byteLimit": 2048000,
      "rowLimit": 10000
     },
     "inputWidgets": {},
     "nuid": "48a16d87-e567-4b65-bc9d-b9e26dca8d26",
     "showTitle": false,
     "tableResultSettingsMap": {},
     "title": ""
    }
   },
   "outputs": [],
   "source": [
    "case_table_silver.write.format(\"delta\") \\\n",
    "    .mode(\"overwrite\") \\\n",
    "    .option(\"overwriteSchema\", \"true\")\\\n",
    "    .option(\"path\", f\"abfss://{container}@{storage_account}.dfs.core.windows.net/silver/CaseTable\")\\\n",
    "    .saveAsTable(\"veersadatabricks.silver_final.case_table_silver\")"
   ]
  },
  {
   "cell_type": "markdown",
   "metadata": {
    "application/vnd.databricks.v1+cell": {
     "cellMetadata": {
      "byteLimit": 2048000,
      "rowLimit": 10000
     },
     "inputWidgets": {},
     "nuid": "61ddf2c6-e6ae-4c29-a804-a261a4be0d1b",
     "showTitle": false,
     "tableResultSettingsMap": {},
     "title": ""
    }
   },
   "source": [
    "### PatientInfo Table\n",
    "- The table contains data related to patient infections, including demographic information and infection details. It can be used to analyze trends in infection cases, track patient outcomes, and understand the spread of infections across different regions.\n",
    "- converted contact_number (number of people patient came in contact with) to integer\n",
    "- cleaned age, sex, and symptom_onset_column by converting them to appropriate types\n",
    "- trimmed and capitalized each word for country, province and city + removed whitespaces\n",
    "- applied filters like patient_id and city should not be null\n",
    "- dropped rows where country is not korea"
   ]
  },
  {
   "cell_type": "code",
   "execution_count": 0,
   "metadata": {
    "application/vnd.databricks.v1+cell": {
     "cellMetadata": {
      "byteLimit": 2048000,
      "implicitDf": true,
      "rowLimit": 10000
     },
     "inputWidgets": {},
     "nuid": "8b0eba90-e550-432c-9610-368aaa437e11",
     "showTitle": false,
     "tableResultSettingsMap": {},
     "title": ""
    }
   },
   "outputs": [],
   "source": [
    "%sql\n",
    "DROP TABLE IF EXISTS veersadatabricks.silver_final.patientinfo_silver;\n"
   ]
  },
  {
   "cell_type": "code",
   "execution_count": 0,
   "metadata": {
    "application/vnd.databricks.v1+cell": {
     "cellMetadata": {
      "byteLimit": 2048000,
      "rowLimit": 10000
     },
     "inputWidgets": {},
     "nuid": "71fa6b83-bdda-42f9-88b2-eaf37a952b04",
     "showTitle": false,
     "tableResultSettingsMap": {},
     "title": ""
    }
   },
   "outputs": [],
   "source": [
    "patientInfo_df = spark.table(\"veersadatabricks.Silver.patientinfo_silver\")\n",
    "#patientInfo_df.printSchema()\n",
    "patientInfo_silver = (\n",
    "    patientInfo_df\n",
    "    # ---- Age cleaning ----\n",
    "    .filter(lower(trim(col(\"is_current\"))) == \"true\")\n",
    "    .withColumn(\"age\", \n",
    "                F.when(F.col(\"age\").rlike(\"^[0-9]+$\"), F.col(\"age\").cast(\"int\"))\n",
    "                .when(F.col(\"age\").rlike(\"^[0-9]+s$\"), F.regexp_extract(\"age\", \"([0-9]+)\", 1).cast(\"int\"))\n",
    "                 .otherwise(None))   # invalid ages set to null\n",
    "                 \n",
    "    # ---- Contact number cleaning ----\n",
    "    .withColumn(\"contact_number\", \n",
    "                F.when(F.col(\"contact_number\").rlike(\"^[0-9]+$\"), \n",
    "                       F.col(\"contact_number\").cast(\"int\"))\n",
    "                 .otherwise(None))   # non-numeric → null\n",
    "                 \n",
    "    # ---- Standardize sex ----\n",
    "    .withColumn(\"sex\", \n",
    "                F.lower(F.trim(F.col(\"sex\"))))  # \"Male \" → \"male\"\n",
    "    \n",
    "    # ---- Dates cleaning ----\n",
    "    .withColumn(\"symptom_onset_date\", \n",
    "                F.to_date(\"symptom_onset_date\", \"yyyy-MM-dd\"))\n",
    "    \n",
    "    .withColumn(\"country\", F.initcap(F.trim(F.col(\"country\"))))\n",
    "    .withColumn(\"province\", F.initcap(F.trim(F.col(\"province\"))))\n",
    "    .withColumn(\"city\", F.initcap(F.trim(F.col(\"city\"))))\n",
    "\n",
    "    # ---- infected_by cleaning ----\n",
    "    .withColumn(\"infected_by\", \n",
    "        F.when(F.col(\"infected_by\").rlike(\"^[0-9]+$\"), F.col(\"infected_by\").cast(\"long\"))\n",
    "         .otherwise(None))\n",
    "    \n",
    "    # ---- Infection case standardization ----\n",
    "    .withColumn(\"infection_case\", F.initcap(F.trim(F.col(\"infection_case\"))))\n",
    "    .filter(\n",
    "        col(\"patient_id\").isNotNull() &\n",
    "        col(\"city\").isNotNull() &\n",
    "        (col(\"city\") != \"-\")\n",
    "    )\n",
    ")\n",
    "patientInfo_silver = patientInfo_silver.withColumn(\n",
    "    \"patient_id\", F.col(\"patient_id\").cast(\"long\")\n",
    ")\n",
    "patientInfo_silver = patientInfo_silver.filter(lower(trim(col(\"country\"))) == \"korea\")\n",
    "#patientInfo_silver = patientInfo_silver.filter(lower(trim(col(\"is_current\"))) == \"true\")"
   ]
  },
  {
   "cell_type": "code",
   "execution_count": 0,
   "metadata": {
    "application/vnd.databricks.v1+cell": {
     "cellMetadata": {
      "byteLimit": 2048000,
      "rowLimit": 10000
     },
     "inputWidgets": {},
     "nuid": "0278ca43-e8c2-4dde-b378-ccbc3a769dcc",
     "showTitle": false,
     "tableResultSettingsMap": {},
     "title": ""
    }
   },
   "outputs": [],
   "source": [
    "patientInfo_silver.write.format(\"delta\") \\\n",
    "    .mode(\"overwrite\") \\\n",
    "    .option(\"overwriteSchema\", \"true\")\\\n",
    "    .option(\"path\", f\"abfss://{container}@{storage_account}.dfs.core.windows.net/silver/PatientInfo\") \\\n",
    "    .saveAsTable(\"veersadatabricks.silver_final.patientinfo_silver\")"
   ]
  },
  {
   "cell_type": "markdown",
   "metadata": {
    "application/vnd.databricks.v1+cell": {
     "cellMetadata": {
      "byteLimit": 2048000,
      "rowLimit": 10000
     },
     "inputWidgets": {},
     "nuid": "3a2b9037-d2bf-4f15-937b-307c166d5aea",
     "showTitle": false,
     "tableResultSettingsMap": {},
     "title": ""
    }
   },
   "source": [
    "### Region Table\n",
    "- dropped education related fields as the spread of covid is not specifically related to them\n",
    "- applied filters for not null city\n",
    "- filling missing values where needed"
   ]
  },
  {
   "cell_type": "code",
   "execution_count": 0,
   "metadata": {
    "application/vnd.databricks.v1+cell": {
     "cellMetadata": {
      "byteLimit": 2048000,
      "rowLimit": 10000
     },
     "inputWidgets": {},
     "nuid": "4be3abc6-8522-40c2-9229-f054870bb9e9",
     "showTitle": false,
     "tableResultSettingsMap": {},
     "title": ""
    }
   },
   "outputs": [],
   "source": [
    "region_df = spark.table(\"veersadatabricks.silver.region_silver\")\n",
    "region_silver_df = region_df.select(\n",
    "    col(\"code\").cast(\"long\"),\n",
    "    col(\"province\").cast(\"string\"),\n",
    "    col(\"city\").cast(\"string\"),\n",
    "    col(\"latitude\").cast(\"double\"),\n",
    "    col(\"longitude\").cast(\"double\"),\n",
    "    col(\"elderly_population_ratio\").cast(\"double\"),\n",
    "    col(\"elderly_alone_ratio\").cast(\"double\"),\n",
    "    col(\"nursing_home_count\").cast(\"long\")\n",
    ")\n",
    "\n",
    "# Silver layer transformations\n",
    "region_silver_df = (\n",
    "    region_silver_df\n",
    "    # Fill missing values where appropriate\n",
    "    .fillna({\n",
    "        \"nursing_home_count\": 0,\n",
    "        \"elderly_population_ratio\": 0.0,\n",
    "        \"elderly_alone_ratio\": 0.0\n",
    "    })\n",
    "\n",
    "    # Deduplicate based on region code\n",
    "    .dropDuplicates([\"code\"])\n",
    "    .filter(\n",
    "        col(\"city\").isNotNull() &\n",
    "        (col(\"city\") != \"-\")\n",
    "    )\n",
    ")\n"
   ]
  },
  {
   "cell_type": "code",
   "execution_count": 0,
   "metadata": {
    "application/vnd.databricks.v1+cell": {
     "cellMetadata": {
      "byteLimit": 2048000,
      "rowLimit": 10000
     },
     "inputWidgets": {},
     "nuid": "9762e5f7-68f4-4ea2-8a53-ff8a81c978ca",
     "showTitle": false,
     "tableResultSettingsMap": {},
     "title": ""
    }
   },
   "outputs": [],
   "source": [
    "region_silver_df.write.format(\"delta\") \\\n",
    "    .mode(\"overwrite\") \\\n",
    "    .option(\"path\", f\"abfss://{container}@{storage_account}.dfs.core.windows.net/silver/Region\") \\\n",
    "    .saveAsTable(\"veersadatabricks.silver_final.region_silver\")"
   ]
  },
  {
   "cell_type": "markdown",
   "metadata": {
    "application/vnd.databricks.v1+cell": {
     "cellMetadata": {
      "byteLimit": 2048000,
      "rowLimit": 10000
     },
     "inputWidgets": {},
     "nuid": "4eca4b14-61b3-4fc6-866d-3fa9f6d8b155",
     "showTitle": false,
     "tableResultSettingsMap": {},
     "title": ""
    }
   },
   "source": [
    "### Time table\n",
    "- dropped time row"
   ]
  },
  {
   "cell_type": "code",
   "execution_count": 0,
   "metadata": {
    "application/vnd.databricks.v1+cell": {
     "cellMetadata": {
      "byteLimit": 2048000,
      "rowLimit": 10000
     },
     "inputWidgets": {},
     "nuid": "c24e611a-efcc-456f-9cd8-0c60d3654415",
     "showTitle": false,
     "tableResultSettingsMap": {},
     "title": ""
    }
   },
   "outputs": [],
   "source": [
    "time_df = spark.table(\"veersadatabricks.silver.time_silver\")"
   ]
  },
  {
   "cell_type": "code",
   "execution_count": 0,
   "metadata": {
    "application/vnd.databricks.v1+cell": {
     "cellMetadata": {
      "byteLimit": 2048000,
      "rowLimit": 10000
     },
     "inputWidgets": {},
     "nuid": "ced39ed0-1b18-436c-b619-27a91c527fdf",
     "showTitle": false,
     "tableResultSettingsMap": {},
     "title": ""
    }
   },
   "outputs": [],
   "source": [
    "silver_time_df = (\n",
    "    time_df\n",
    "    .drop(\"time\")  # dropping redundant time column\n",
    "    .withColumn(\"date\", F.to_date(\"date\", \"yyyy-MM-dd\"))  # ensuring proper date type\n",
    ")"
   ]
  },
  {
   "cell_type": "code",
   "execution_count": 0,
   "metadata": {
    "application/vnd.databricks.v1+cell": {
     "cellMetadata": {
      "byteLimit": 2048000,
      "rowLimit": 10000
     },
     "inputWidgets": {},
     "nuid": "e4a6a999-925f-4680-955f-997a337269f5",
     "showTitle": false,
     "tableResultSettingsMap": {},
     "title": ""
    }
   },
   "outputs": [],
   "source": [
    "silver_time_df.write.format(\"delta\") \\\n",
    "    .mode(\"overwrite\") \\\n",
    "    .option(\"path\", f\"abfss://{container}@{storage_account}.dfs.core.windows.net/silver/Time\") \\\n",
    "    .saveAsTable(\"veersadatabricks.silver_final.time_silver\")"
   ]
  },
  {
   "cell_type": "markdown",
   "metadata": {
    "application/vnd.databricks.v1+cell": {
     "cellMetadata": {
      "byteLimit": 2048000,
      "rowLimit": 10000
     },
     "inputWidgets": {},
     "nuid": "4fe8131c-41f4-495a-9c11-34055b24c9a8",
     "showTitle": false,
     "tableResultSettingsMap": {},
     "title": ""
    }
   },
   "source": [
    "### Time Age\n",
    "- dropped time column as it only contained 0 or midnight as value\n",
    "- converted age groups into their lower limit i.e. 10s to 10, can be converted to 10-19 during visualization for better readability"
   ]
  },
  {
   "cell_type": "code",
   "execution_count": 0,
   "metadata": {
    "application/vnd.databricks.v1+cell": {
     "cellMetadata": {
      "byteLimit": 2048000,
      "rowLimit": 10000
     },
     "inputWidgets": {},
     "nuid": "f6986bc8-d570-4e32-b4f0-7a4e7cff5763",
     "showTitle": false,
     "tableResultSettingsMap": {},
     "title": ""
    }
   },
   "outputs": [],
   "source": [
    "time_age_df = spark.table(\"veersadatabricks.silver.timeage_silver\")"
   ]
  },
  {
   "cell_type": "code",
   "execution_count": 0,
   "metadata": {
    "application/vnd.databricks.v1+cell": {
     "cellMetadata": {
      "byteLimit": 2048000,
      "rowLimit": 10000
     },
     "inputWidgets": {},
     "nuid": "bda61b21-c1bf-44fb-a485-2d93951d0bd4",
     "showTitle": false,
     "tableResultSettingsMap": {},
     "title": ""
    }
   },
   "outputs": [],
   "source": [
    "silver_time_age_df = ( \n",
    "    time_age_df \n",
    "    .drop(\"time\") # drop redundant midnight column \n",
    "    .withColumn(\"date\", F.to_date(\"date\", \"yyyy-MM-dd\")) \n",
    "    .withColumn(\"age_group\", F.regexp_replace(\"age\", \"s\", \"\").cast(\"int\"))\n",
    "    #convert \"20s\" → 20 .drop(\"age\"), regexp_replace, removes the s from age column, converts the remaining number to int using cast function, droppping age column can be done, keeping it for now to remember better\n",
    ")"
   ]
  },
  {
   "cell_type": "code",
   "execution_count": 0,
   "metadata": {
    "application/vnd.databricks.v1+cell": {
     "cellMetadata": {
      "byteLimit": 2048000,
      "rowLimit": 10000
     },
     "inputWidgets": {},
     "nuid": "e3988772-69b0-4c69-9e0f-6b6299f3c040",
     "showTitle": false,
     "tableResultSettingsMap": {},
     "title": ""
    }
   },
   "outputs": [],
   "source": [
    "silver_time_age_df.write.format(\"delta\") \\\n",
    "    .mode(\"overwrite\") \\\n",
    "    .option(\"path\", f\"abfss://{container}@{storage_account}.dfs.core.windows.net/silver/TimeAge\") \\\n",
    "    .saveAsTable(\"veersadatabricks.silver_final.timeage_silver\")"
   ]
  },
  {
   "cell_type": "markdown",
   "metadata": {
    "application/vnd.databricks.v1+cell": {
     "cellMetadata": {
      "byteLimit": 2048000,
      "rowLimit": 10000
     },
     "inputWidgets": {},
     "nuid": "e3575063-a68e-43f5-b11e-51524a4f27b2",
     "showTitle": false,
     "tableResultSettingsMap": {},
     "title": ""
    }
   },
   "source": [
    "### Time Province"
   ]
  },
  {
   "cell_type": "code",
   "execution_count": 0,
   "metadata": {
    "application/vnd.databricks.v1+cell": {
     "cellMetadata": {
      "byteLimit": 2048000,
      "rowLimit": 10000
     },
     "inputWidgets": {},
     "nuid": "fe5bf1c7-33ca-436b-b106-4c76aa90a0d1",
     "showTitle": false,
     "tableResultSettingsMap": {},
     "title": ""
    }
   },
   "outputs": [],
   "source": [
    "time_province_df = spark.table(\"veersadatabricks.silver.timeprovince_silver\")"
   ]
  },
  {
   "cell_type": "code",
   "execution_count": 0,
   "metadata": {
    "application/vnd.databricks.v1+cell": {
     "cellMetadata": {
      "byteLimit": 2048000,
      "rowLimit": 10000
     },
     "inputWidgets": {},
     "nuid": "9f380b49-7c94-44a2-b50f-2fa5d24f9550",
     "showTitle": false,
     "tableResultSettingsMap": {},
     "title": ""
    }
   },
   "outputs": [],
   "source": [
    "silver_time_province_df = (\n",
    "    time_province_df\n",
    "    # ensure proper date type\n",
    "    .withColumn(\"date\", F.to_date(\"date\", \"yyyy-MM-dd\"))\n",
    "    # drop the redundant time column\n",
    "    .drop(\"time\")\n",
    ")"
   ]
  },
  {
   "cell_type": "code",
   "execution_count": 0,
   "metadata": {
    "application/vnd.databricks.v1+cell": {
     "cellMetadata": {
      "byteLimit": 2048000,
      "rowLimit": 10000
     },
     "inputWidgets": {},
     "nuid": "a0951958-ee20-4094-9823-21c137739add",
     "showTitle": false,
     "tableResultSettingsMap": {},
     "title": ""
    }
   },
   "outputs": [],
   "source": [
    "silver_time_province_df.write.format(\"delta\") \\\n",
    "    .mode(\"overwrite\") \\\n",
    "    .option(\"path\", f\"abfss://{container}@{storage_account}.dfs.core.windows.net/silver/TimeProvince\") \\\n",
    "    .saveAsTable(\"veersadatabricks.silver_final.timeprovince_silver\")"
   ]
  },
  {
   "cell_type": "markdown",
   "metadata": {
    "application/vnd.databricks.v1+cell": {
     "cellMetadata": {
      "byteLimit": 2048000,
      "rowLimit": 10000
     },
     "inputWidgets": {},
     "nuid": "e45f8266-3b44-48f2-a060-f66ec8544502",
     "showTitle": false,
     "tableResultSettingsMap": {},
     "title": ""
    }
   },
   "source": [
    "### Time Gender"
   ]
  },
  {
   "cell_type": "code",
   "execution_count": 0,
   "metadata": {
    "application/vnd.databricks.v1+cell": {
     "cellMetadata": {
      "byteLimit": 2048000,
      "rowLimit": 10000
     },
     "inputWidgets": {},
     "nuid": "2a78882e-0760-4151-9fbb-06730bb5bc1f",
     "showTitle": false,
     "tableResultSettingsMap": {},
     "title": ""
    }
   },
   "outputs": [],
   "source": [
    "time_gender_df = spark.table(\"veersadatabricks.silver.timegender_silver\")"
   ]
  },
  {
   "cell_type": "code",
   "execution_count": 0,
   "metadata": {
    "application/vnd.databricks.v1+cell": {
     "cellMetadata": {
      "byteLimit": 2048000,
      "rowLimit": 10000
     },
     "inputWidgets": {},
     "nuid": "8ff1e4e8-9122-4ced-b011-a2fed0120389",
     "showTitle": false,
     "tableResultSettingsMap": {},
     "title": ""
    }
   },
   "outputs": [],
   "source": [
    "silver_time_gender_df = (\n",
    "    time_gender_df\n",
    "    .drop(\"time\")\n",
    "    .withColumn(\"date\", F.to_date(\"date\", \"yyyy-MM-dd\"))   # standardize date type\n",
    ")"
   ]
  },
  {
   "cell_type": "code",
   "execution_count": 0,
   "metadata": {
    "application/vnd.databricks.v1+cell": {
     "cellMetadata": {
      "byteLimit": 2048000,
      "rowLimit": 10000
     },
     "inputWidgets": {},
     "nuid": "9a3fd8d6-814d-4efd-bd54-cfa1470f0397",
     "showTitle": false,
     "tableResultSettingsMap": {},
     "title": ""
    }
   },
   "outputs": [],
   "source": [
    "silver_time_gender_df.write.format(\"delta\") \\\n",
    "    .mode(\"overwrite\") \\\n",
    "    .option(\"overwriteSchema\",\"true\")\\\n",
    "    .option(\"path\", f\"abfss://{container}@{storage_account}.dfs.core.windows.net/silver/TimeGender\") \\\n",
    "    .saveAsTable(\"veersadatabricks.silver_final.timegender_silver\")"
   ]
  },
  {
   "cell_type": "markdown",
   "metadata": {
    "application/vnd.databricks.v1+cell": {
     "cellMetadata": {
      "byteLimit": 2048000,
      "rowLimit": 10000
     },
     "inputWidgets": {},
     "nuid": "b171ba92-0ebf-4e24-a56c-6d9e5133ecf0",
     "showTitle": false,
     "tableResultSettingsMap": {},
     "title": ""
    }
   },
   "source": [
    "### Search Trend\n",
    "- ensuring date is not null\n",
    "- dropping duplicates\n",
    "- filling 0.0 for keyword searches"
   ]
  },
  {
   "cell_type": "code",
   "execution_count": 0,
   "metadata": {
    "application/vnd.databricks.v1+cell": {
     "cellMetadata": {
      "byteLimit": 2048000,
      "rowLimit": 10000
     },
     "inputWidgets": {},
     "nuid": "a3a11096-73f8-4164-94d5-e0a728f3a4c1",
     "showTitle": false,
     "tableResultSettingsMap": {},
     "title": ""
    }
   },
   "outputs": [],
   "source": [
    "search_trend_df = spark.table(\"veersadatabricks.silver.searchtrend_silver\")"
   ]
  },
  {
   "cell_type": "code",
   "execution_count": 0,
   "metadata": {
    "application/vnd.databricks.v1+cell": {
     "cellMetadata": {
      "byteLimit": 2048000,
      "rowLimit": 10000
     },
     "inputWidgets": {},
     "nuid": "e2678ee7-ea0a-4b5e-9a84-b3b8ef61ee42",
     "showTitle": false,
     "tableResultSettingsMap": {},
     "title": ""
    }
   },
   "outputs": [],
   "source": [
    "# Transformations\n",
    "search_trend_silver = (\n",
    "    search_trend_df\n",
    "    .dropDuplicates([\"date\"])  # keep unique record per date\n",
    "    .filter(F.col(\"date\").isNotNull())  # remove null dates\n",
    "    .fillna(0.0, subset=[\"cold\", \"flu\", \"pneumonia\", \"coronavirus\"])  # fill missing search volumes\n",
    ")"
   ]
  },
  {
   "cell_type": "code",
   "execution_count": 0,
   "metadata": {
    "application/vnd.databricks.v1+cell": {
     "cellMetadata": {
      "byteLimit": 2048000,
      "rowLimit": 10000
     },
     "inputWidgets": {},
     "nuid": "3176ace2-4e00-47ba-8660-f9da5af20c9b",
     "showTitle": false,
     "tableResultSettingsMap": {},
     "title": ""
    }
   },
   "outputs": [],
   "source": [
    "search_trend_silver.write.format(\"delta\") \\\n",
    "    .mode(\"overwrite\") \\\n",
    "    .option(\"path\", f\"abfss://{container}@{storage_account}.dfs.core.windows.net/silver/SearchTrned\") \\\n",
    "    .saveAsTable(\"veersadatabricks.silver_final.searchtrend_silver\")"
   ]
  },
  {
   "cell_type": "markdown",
   "metadata": {
    "application/vnd.databricks.v1+cell": {
     "cellMetadata": {
      "byteLimit": 2048000,
      "rowLimit": 10000
     },
     "inputWidgets": {},
     "nuid": "98fef209-d948-40c2-a032-53623a9fc4dc",
     "showTitle": false,
     "tableResultSettingsMap": {},
     "title": ""
    }
   },
   "source": [
    "### Weather\n",
    "- dropping duplicates\n",
    "- rounding column values to 2 decimal places"
   ]
  },
  {
   "cell_type": "code",
   "execution_count": 0,
   "metadata": {
    "application/vnd.databricks.v1+cell": {
     "cellMetadata": {
      "byteLimit": 2048000,
      "rowLimit": 10000
     },
     "inputWidgets": {},
     "nuid": "93b63726-9b0e-4d3a-9548-0da26fcd6d6c",
     "showTitle": false,
     "tableResultSettingsMap": {},
     "title": ""
    }
   },
   "outputs": [],
   "source": [
    "weather_df = spark.table(\"veersadatabricks.silver.weather_silver\")\n",
    "\n",
    "# Transformations\n",
    "weather_silver = (\n",
    "    weather_df\n",
    "    .dropDuplicates([\"province\", \"date\"])   # keep unique records per province & date\n",
    "    .withColumn(\"province\", F.initcap(\"province\"))  # standardize casing\n",
    "    .filter(F.col(\"date\").isNotNull())       # remove rows without date\n",
    "    .withColumn(\"avg_temp\", F.round(\"avg_temp\", 2))\n",
    "    .withColumn(\"min_temp\", F.round(\"min_temp\", 2))\n",
    "    .withColumn(\"max_temp\", F.round(\"max_temp\", 2))\n",
    "    .withColumn(\"precipitation\", F.coalesce(\"precipitation\", F.lit(0.0)))\n",
    "    .withColumn(\"avg_relative_humidity\", F.round(\"avg_relative_humidity\", 2))\n",
    ")"
   ]
  },
  {
   "cell_type": "code",
   "execution_count": 0,
   "metadata": {
    "application/vnd.databricks.v1+cell": {
     "cellMetadata": {
      "byteLimit": 2048000,
      "rowLimit": 10000
     },
     "inputWidgets": {},
     "nuid": "6f385ba3-1ab1-4072-ba78-73ecf67d7d5e",
     "showTitle": false,
     "tableResultSettingsMap": {},
     "title": ""
    }
   },
   "outputs": [],
   "source": [
    "weather_silver.write.format(\"delta\") \\\n",
    "    .mode(\"overwrite\") \\\n",
    "    .option(\"path\", f\"abfss://{container}@{storage_account}.dfs.core.windows.net/silver/Weather\") \\\n",
    "    .saveAsTable(\"veersadatabricks.silver_final.weather_silver\")"
   ]
  }
 ],
 "metadata": {
  "application/vnd.databricks.v1+notebook": {
   "computePreferences": null,
   "dashboards": [],
   "environmentMetadata": {
    "base_environment": "",
    "environment_version": "3"
   },
   "inputWidgetPreferences": null,
   "language": "python",
   "notebookMetadata": {
    "mostRecentlyExecutedCommandWithImplicitDF": {
     "commandId": 8516792093339616,
     "dataframes": [
      "_sqldf"
     ]
    },
    "pythonIndentUnit": 4
   },
   "notebookName": "silver_processing",
   "widgets": {}
  },
  "language_info": {
   "name": "python"
  }
 },
 "nbformat": 4,
 "nbformat_minor": 0
}
